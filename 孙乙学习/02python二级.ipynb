{
 "cells": [
  {
   "cell_type": "markdown",
   "metadata": {},
   "source": [
    "## 第六课 可变序列"
   ]
  },
  {
   "cell_type": "code",
   "execution_count": 3,
   "metadata": {},
   "outputs": [
    {
     "name": "stdout",
     "output_type": "stream",
     "text": [
      "['abc', 123, {'eden': ['孙乙', '孙田']}]\n"
     ]
    }
   ],
   "source": [
    "lst = ['abc',123,{'eden':['孙乙','孙田']}]\n",
    "\n",
    "print(lst)"
   ]
  },
  {
   "cell_type": "code",
   "execution_count": 5,
   "metadata": {},
   "outputs": [
    {
     "name": "stdout",
     "output_type": "stream",
     "text": [
      "Python"
     ]
    }
   ],
   "source": [
    "l = list('Python')\n",
    "for i in l:\n",
    "    print(i,end='')"
   ]
  },
  {
   "cell_type": "code",
   "execution_count": 11,
   "metadata": {},
   "outputs": [
    {
     "name": "stdout",
     "output_type": "stream",
     "text": [
      "n\n",
      "7\n",
      "n\n",
      "n\n",
      "n\n"
     ]
    }
   ],
   "source": [
    "name = 'Edensun'\n",
    "print(name[3])\n",
    "print(len(name))\n",
    "print(name[len(name)-1])\n",
    "print(name[len(name)-2])\n",
    "print(name[len(name)-3])\n",
    "print(name[-1])"
   ]
  },
  {
   "cell_type": "code",
   "execution_count": 20,
   "metadata": {},
   "outputs": [
    {
     "name": "stdout",
     "output_type": "stream",
     "text": [
      "27\n"
     ]
    }
   ],
   "source": [
    "t =\"'1','2','3','4','5','6','7'\"\n",
    "print(len(t))"
   ]
  },
  {
   "cell_type": "code",
   "execution_count": 32,
   "metadata": {},
   "outputs": [
    {
     "name": "stdout",
     "output_type": "stream",
     "text": [
      "98.0\n"
     ]
    }
   ],
   "source": [
    "T = [97,99,98]\n",
    "print(sum(T)/3)"
   ]
  },
  {
   "cell_type": "code",
   "execution_count": 2,
   "metadata": {},
   "outputs": [
    {
     "name": "stdout",
     "output_type": "stream",
     "text": [
      "('a', 'b', 'c', 'd', 'a', 'b', 'c', 'd')\n",
      "['a', 'a', 'b', 'b', 'c', 'c', 'd', 'd']\n"
     ]
    }
   ],
   "source": [
    "T = ('a','b','c','d')\n",
    "t = T*2\n",
    "\n",
    "print(t)\n",
    "\n",
    "print(sorted(t))"
   ]
  },
  {
   "cell_type": "code",
   "execution_count": 12,
   "metadata": {},
   "outputs": [
    {
     "name": "stdout",
     "output_type": "stream",
     "text": [
      "4\n",
      "4\n",
      "(1, 2, 3, 4, 5)\n"
     ]
    },
    {
     "ename": "TypeError",
     "evalue": "'tuple' object does not support item assignment",
     "output_type": "error",
     "traceback": [
      "\u001b[1;31m---------------------------------------------------------------------------\u001b[0m",
      "\u001b[1;31mTypeError\u001b[0m                                 Traceback (most recent call last)",
      "Cell \u001b[1;32mIn[12], line 12\u001b[0m\n\u001b[0;32m      8\u001b[0m tup \u001b[38;5;241m=\u001b[39m (\u001b[38;5;241m1\u001b[39m,\u001b[38;5;241m2\u001b[39m,\u001b[38;5;241m3\u001b[39m,\u001b[38;5;241m4\u001b[39m,\u001b[38;5;241m5\u001b[39m)\n\u001b[0;32m     10\u001b[0m \u001b[38;5;28mprint\u001b[39m(tup[\u001b[38;5;241m0\u001b[39m::\u001b[38;5;241m1\u001b[39m])\n\u001b[1;32m---> 12\u001b[0m \u001b[43mtup\u001b[49m\u001b[43m[\u001b[49m\u001b[38;5;241;43m1\u001b[39;49m\u001b[43m]\u001b[49m \u001b[38;5;241m=\u001b[39m \u001b[38;5;241m10\u001b[39m\n",
      "\u001b[1;31mTypeError\u001b[0m: 'tuple' object does not support item assignment"
     ]
    }
   ],
   "source": [
    "mt = ('a','b','c','d',(1,2,3,4))\n",
    "\n",
    "print(mt[4][-1])\n",
    "\n",
    "print(mt[-1][-1])\n",
    "\n",
    "\n",
    "tup = (1,2,3,4,5)\n",
    "\n",
    "print(tup[0::1])\n",
    "\n",
    "tup[1] = 10"
   ]
  },
  {
   "cell_type": "code",
   "execution_count": 13,
   "metadata": {},
   "outputs": [
    {
     "name": "stdout",
     "output_type": "stream",
     "text": [
      "()\n"
     ]
    }
   ],
   "source": [
    "d = ()\n",
    "\n",
    "print(type(d))"
   ]
  }
 ],
 "metadata": {
  "kernelspec": {
   "display_name": "base",
   "language": "python",
   "name": "python3"
  },
  "language_info": {
   "codemirror_mode": {
    "name": "ipython",
    "version": 3
   },
   "file_extension": ".py",
   "mimetype": "text/x-python",
   "name": "python",
   "nbconvert_exporter": "python",
   "pygments_lexer": "ipython3",
   "version": "3.10.12"
  }
 },
 "nbformat": 4,
 "nbformat_minor": 2
}

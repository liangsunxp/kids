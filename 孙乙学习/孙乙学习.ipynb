{
 "cells": [
  {
   "cell_type": "code",
   "execution_count": 19,
   "metadata": {},
   "outputs": [
    {
     "name": "stdout",
     "output_type": "stream",
     "text": [
      "['1', '3', '4', '5']\n",
      "1\n"
     ]
    }
   ],
   "source": [
    "#        0   1   2   3   4\n",
    "list = ['1','2','3','4','5']\n",
    "\n",
    "list.pop(1)\n",
    "\n",
    "print(list)\n",
    "print(list[0])"
   ]
  },
  {
   "cell_type": "code",
   "execution_count": 55,
   "metadata": {},
   "outputs": [
    {
     "name": "stdout",
     "output_type": "stream",
     "text": [
      "乙\n"
     ]
    }
   ],
   "source": [
    "list = ['孙','乙']\n",
    "max(list)\n",
    "\n",
    "print(min(list))"
   ]
  },
  {
   "cell_type": "code",
   "execution_count": 4,
   "metadata": {},
   "outputs": [
    {
     "name": "stdout",
     "output_type": "stream",
     "text": [
      "[]\n"
     ]
    }
   ],
   "source": [
    "lst = [1,2,3,5]\n",
    "\n",
    "lst.clear()\n",
    "\n",
    "print(lst)"
   ]
  },
  {
   "cell_type": "code",
   "execution_count": 5,
   "metadata": {},
   "outputs": [
    {
     "name": "stdout",
     "output_type": "stream",
     "text": [
      "[0, 1, 2, 3, 4, 5, 6, 7, 8, 9]\n"
     ]
    }
   ],
   "source": [
    "lst = list(range(10))\n",
    "\n",
    "print(lst)"
   ]
  },
  {
   "cell_type": "code",
   "execution_count": 5,
   "metadata": {},
   "outputs": [
    {
     "name": "stdout",
     "output_type": "stream",
     "text": [
      "[['zhōng'], ['guó']]\n"
     ]
    }
   ],
   "source": [
    "from pypinyin import pinyin\n",
    "\n",
    "print(pinyin('中国'))"
   ]
  },
  {
   "cell_type": "code",
   "execution_count": 17,
   "metadata": {},
   "outputs": [
    {
     "name": "stdout",
     "output_type": "stream",
     "text": [
      "a=10\n",
      "这句话我怎么样都要执行\n"
     ]
    }
   ],
   "source": [
    "a = 10\n",
    "b = 20\n",
    "\n",
    "if a>10:\n",
    "    print('a>10')\n",
    "    if b > 10:\n",
    "        print('b>10')\n",
    "    else:\n",
    "        print('b<=10')\n",
    "elif a==10:\n",
    "    print('a=10')\n",
    "else :\n",
    "    print('a<10')\n",
    "    \n",
    "print(\"这句话我怎么样都要执行\")"
   ]
  },
  {
   "cell_type": "code",
   "execution_count": 19,
   "metadata": {},
   "outputs": [
    {
     "name": "stdout",
     "output_type": "stream",
     "text": [
      "Ok\n"
     ]
    }
   ],
   "source": [
    "a = int(input('请输入一个数字：'))\n",
    "if a < 100:\n",
    "    print(\"Ok\")"
   ]
  },
  {
   "cell_type": "code",
   "execution_count": 25,
   "metadata": {},
   "outputs": [],
   "source": [
    "a = ''\n",
    "\n",
    "if a:\n",
    "    print(\"True\")"
   ]
  },
  {
   "cell_type": "code",
   "execution_count": 5,
   "metadata": {},
   "outputs": [
    {
     "name": "stdout",
     "output_type": "stream",
     "text": [
      "100\n"
     ]
    }
   ],
   "source": [
    "lst = [4,4,1]\n",
    "\n",
    "# 按进制计算对应的十进制值\n",
    "def calc(lst,t):\n",
    "    rst = 0\n",
    "    for index,value in enumerate(lst):\n",
    "        rst += value * t ** index\n",
    "    return rst\n",
    "\n",
    "print(calc(lst,8))"
   ]
  },
  {
   "cell_type": "code",
   "execution_count": 7,
   "metadata": {},
   "outputs": [
    {
     "name": "stdout",
     "output_type": "stream",
     "text": [
      "7\n"
     ]
    }
   ],
   "source": [
    "a = [34,17,7]\n",
    "\n",
    "print(a.pop())"
   ]
  },
  {
   "cell_type": "code",
   "execution_count": 1,
   "metadata": {},
   "outputs": [
    {
     "name": "stdout",
     "output_type": "stream",
     "text": [
      "7\n"
     ]
    }
   ],
   "source": [
    "for i in range(100):\n",
    "    if i * i > 40:\n",
    "        break\n",
    "print(i)"
   ]
  },
  {
   "cell_type": "code",
   "execution_count": 5,
   "metadata": {},
   "outputs": [
    {
     "name": "stdout",
     "output_type": "stream",
     "text": [
      "看书\n",
      "画画,吃巧克力\n",
      "做作业\n",
      "睡觉\n",
      "{'孙乙': '做作业', '孙田': '画画,吃巧克力', '妈妈': '睡觉'}\n",
      "{'孙乙': '做作业', '孙田': '画画,吃巧克力', '妈妈': '睡觉'}\n",
      "abc\n"
     ]
    }
   ],
   "source": [
    "dic = {'孙乙':\"看书,拼乐高,玩Switch游戏机\",'孙田':\"画画,吃巧克力\",'孙乙':\"看书\",}\n",
    "print(dic['孙乙'])\n",
    "print(dic.get('孙田'))\n",
    "\n",
    "dic['孙乙'] ='做作业'\n",
    "print(dic['孙乙'])\n",
    "dic['妈妈'] ='睡觉'\n",
    "print(dic['妈妈'])\n",
    "print(dic)\n",
    "\n",
    "print(dic)\n",
    "print(dic.get('爸爸','abc'))"
   ]
  },
  {
   "cell_type": "code",
   "execution_count": 1,
   "metadata": {},
   "outputs": [
    {
     "name": "stdout",
     "output_type": "stream",
     "text": [
      "['a', 'b']\n"
     ]
    }
   ],
   "source": [
    "str = 'a,b'\n",
    "\n",
    "print(str.split(','))"
   ]
  },
  {
   "cell_type": "code",
   "execution_count": 9,
   "metadata": {},
   "outputs": [
    {
     "name": "stdout",
     "output_type": "stream",
     "text": [
      "('2022', '谷爱凌')\n",
      "None\n"
     ]
    }
   ],
   "source": [
    "tup1 = ('苏炳添', '谷爱凌', '北京冬奥会', '2022')\n",
    "\n",
    "print(tup1[-1::-2])\n"
   ]
  },
  {
   "cell_type": "code",
   "execution_count": 11,
   "metadata": {},
   "outputs": [
    {
     "name": "stdout",
     "output_type": "stream",
     "text": [
      "0\n"
     ]
    }
   ],
   "source": [
    "l = ['a','b']\n",
    "\n",
    "print(l.index('a'))"
   ]
  },
  {
   "cell_type": "code",
   "execution_count": 12,
   "metadata": {},
   "outputs": [
    {
     "name": "stdout",
     "output_type": "stream",
     "text": [
      "['e', 'o', 'o']\n"
     ]
    }
   ],
   "source": [
    "lis1=[\"a\",\"e\",\"i\",\"o\",\"u\"]\n",
    "strword='hello world'\n",
    "lis2=[]\n",
    "for i in strword:\n",
    "    if i in lis1:\n",
    "       lis2.append(i)\n",
    "print(lis2)\n"
   ]
  },
  {
   "cell_type": "code",
   "execution_count": 13,
   "metadata": {},
   "outputs": [
    {
     "name": "stdout",
     "output_type": "stream",
     "text": [
      "96 100 100 99 "
     ]
    }
   ],
   "source": [
    "d={'语文':96,'数学':100,'英语':100,'科学':99} \n",
    "for x in d: \n",
    "    print(d[x],end=' ')\n"
   ]
  },
  {
   "cell_type": "code",
   "execution_count": 3,
   "metadata": {},
   "outputs": [
    {
     "name": "stdout",
     "output_type": "stream",
     "text": [
      "四\n",
      "三\n"
     ]
    }
   ],
   "source": [
    "dd = {1:'一',2:'二',3:'三',4:'四',5:'五',6:'六',7:'七',8:'八',9:'九'}\n",
    "\n",
    "a = 4\n",
    "b = 6\n",
    "c = 8\n",
    "d = 3\n",
    "\n",
    "print(dd[a])\n",
    "print(dd[d])"
   ]
  },
  {
   "cell_type": "code",
   "execution_count": 6,
   "metadata": {},
   "outputs": [
    {
     "name": "stdout",
     "output_type": "stream",
     "text": [
      "['kdk', 'kldk', 'dsd']\n",
      "kdk#kldk#dsd\n"
     ]
    },
    {
     "ename": "TypeError",
     "evalue": "sequence item 0: expected str instance, int found",
     "output_type": "error",
     "traceback": [
      "\u001b[1;31m---------------------------------------------------------------------------\u001b[0m",
      "\u001b[1;31mTypeError\u001b[0m                                 Traceback (most recent call last)",
      "Cell \u001b[1;32mIn[6], line 10\u001b[0m\n\u001b[0;32m      6\u001b[0m \u001b[38;5;28mprint\u001b[39m(\u001b[38;5;124m'\u001b[39m\u001b[38;5;124m#\u001b[39m\u001b[38;5;124m'\u001b[39m\u001b[38;5;241m.\u001b[39mjoin(s))\n\u001b[0;32m      8\u001b[0m l \u001b[38;5;241m=\u001b[39m [\u001b[38;5;241m1\u001b[39m,\u001b[38;5;241m2\u001b[39m,\u001b[38;5;241m3\u001b[39m]\n\u001b[1;32m---> 10\u001b[0m \u001b[38;5;28mprint\u001b[39m(\u001b[38;5;124;43m'\u001b[39;49m\u001b[38;5;124;43m'\u001b[39;49m\u001b[38;5;241;43m.\u001b[39;49m\u001b[43mjoin\u001b[49m\u001b[43m(\u001b[49m\u001b[43ml\u001b[49m\u001b[43m)\u001b[49m)\n",
      "\u001b[1;31mTypeError\u001b[0m: sequence item 0: expected str instance, int found"
     ]
    }
   ],
   "source": [
    "s = 'kdk-kldk-dsd'\n",
    "s = s.split('-')\n",
    "\n",
    "print(s)\n",
    "\n",
    "print('#'.join(s))\n",
    "\n",
    "l = [1,2,3]\n",
    "\n",
    "print(''.join(l))"
   ]
  },
  {
   "cell_type": "code",
   "execution_count": 9,
   "metadata": {},
   "outputs": [
    {
     "name": "stdout",
     "output_type": "stream",
     "text": [
      "{'四字成语': '百里挑一', '三字成语': '风马牛', '六字成语': '一动不如一静'}\n"
     ]
    }
   ],
   "source": [
    "chengyu = {}\n",
    "\n",
    "chengyu['四字成语'] = '杨柳依依'\n",
    "chengyu['三字成语'] = '风马牛'\n",
    "chengyu['六字成语'] = '一动不如一静'\n",
    "chengyu['四字成语'] = '百里挑一'\n",
    "\n",
    "print(chengyu)"
   ]
  },
  {
   "cell_type": "code",
   "execution_count": 11,
   "metadata": {},
   "outputs": [
    {
     "name": "stdout",
     "output_type": "stream",
     "text": [
      "5\n",
      "4\n",
      "3\n",
      "2\n",
      "1\n",
      "0\n"
     ]
    }
   ],
   "source": [
    "i = 5\n",
    "\n",
    "while i:\n",
    "    print(i)\n",
    "    i -= 1\n",
    "    \n",
    "None"
   ]
  },
  {
   "cell_type": "code",
   "execution_count": 15,
   "metadata": {},
   "outputs": [
    {
     "name": "stdout",
     "output_type": "stream",
     "text": [
      "['welcome', 'to', 'world']\n",
      "['welcome', 'to']\n"
     ]
    }
   ],
   "source": [
    "a = ['welcome','to','python','world']\n",
    "\n",
    "a.pop(2)\n",
    "\n",
    "print(a)\n",
    "\n",
    "a.pop(2)\n",
    "\n",
    "print(a)"
   ]
  },
  {
   "cell_type": "code",
   "execution_count": 23,
   "metadata": {},
   "outputs": [
    {
     "name": "stdout",
     "output_type": "stream",
     "text": [
      "96,100,100,99,"
     ]
    }
   ],
   "source": [
    "d = {'语文':96,'数学':100,'英语':100,'科学':99}\n",
    "\n",
    "for x in d:\n",
    "    print(d[x],end=',')"
   ]
  },
  {
   "cell_type": "code",
   "execution_count": 5,
   "metadata": {},
   "outputs": [
    {
     "name": "stdout",
     "output_type": "stream",
     "text": [
      "白日依山尽,黄河入海流。欲穷千里目,更上一层楼。\n"
     ]
    }
   ],
   "source": [
    "d = ''\n",
    "jvzi1=\"白日依山尽\"\n",
    "jvzi2=\"黄河入海流\"\n",
    "jvzi3=\"欲穷千里目\"\n",
    "jvzi4=\"更上一层楼\"\n",
    "d = jvzi1\n",
    "d = d + \",\" + jvzi2 + \"。\"\n",
    "d = d +  jvzi3\n",
    "d = d + \",\" + jvzi4 + \"。\"\n",
    "\n",
    "print(d)\n"
   ]
  },
  {
   "cell_type": "code",
   "execution_count": 5,
   "metadata": {},
   "outputs": [
    {
     "name": "stdout",
     "output_type": "stream",
     "text": [
      "['[香蕉', '橘子]', '苹果', '李子']\n",
      "[香蕉,橘子],苹果,李子\n"
     ]
    }
   ],
   "source": [
    "a = '[香蕉,橘子],苹果,李子'\n",
    "\n",
    "l = a.split(',')\n",
    "\n",
    "print(l)\n",
    "\n",
    "print(\",\".join(l))"
   ]
  },
  {
   "cell_type": "code",
   "execution_count": 21,
   "metadata": {},
   "outputs": [
    {
     "name": "stdout",
     "output_type": "stream",
     "text": [
      "['9', '8', '7', '6', '5', '4', '3', '2', '1', '0']\n"
     ]
    }
   ],
   "source": [
    "r = ['0','1','2','3','4','5','6','7','8','9']\n",
    "\n",
    "\n",
    "print(list(reversed(sorted(r))))"
   ]
  },
  {
   "cell_type": "code",
   "execution_count": null,
   "metadata": {},
   "outputs": [],
   "source": [
    "a = [1,2,3]\n",
    "b = [2,3,4]\n",
    "\n",
    "print(a+b)"
   ]
  },
  {
   "cell_type": "code",
   "execution_count": 10,
   "metadata": {},
   "outputs": [
    {
     "name": "stdout",
     "output_type": "stream",
     "text": [
      "<title>优质资讯推荐_腾讯网</title>\n"
     ]
    }
   ],
   "source": [
    "# 帮我写一个爬虫从腾讯新闻上爬取新闻标题\n",
    "import requests\n",
    "from bs4 import BeautifulSoup\n",
    "\n",
    "url = 'https://news.qq.com/'\n",
    "res = requests.get(url)\n",
    "res.encoding = 'utf-8'\n",
    "soup = BeautifulSoup(res.text,'html.parser')\n",
    "\n",
    "print(soup.title)\n",
    "\n",
    "\n",
    "#for n in news:\n",
    "#    print(n.text)\n"
   ]
  }
 ],
 "metadata": {
  "kernelspec": {
   "display_name": "eagle",
   "language": "python",
   "name": "python3"
  },
  "language_info": {
   "codemirror_mode": {
    "name": "ipython",
    "version": 3
   },
   "file_extension": ".py",
   "mimetype": "text/x-python",
   "name": "python",
   "nbconvert_exporter": "python",
   "pygments_lexer": "ipython3",
   "version": "3.10.12"
  }
 },
 "nbformat": 4,
 "nbformat_minor": 2
}

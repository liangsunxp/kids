{
 "cells": [
  {
   "cell_type": "markdown",
   "metadata": {},
   "source": [
    "## TK进行简单的测试"
   ]
  },
  {
   "cell_type": "code",
   "execution_count": 7,
   "metadata": {},
   "outputs": [],
   "source": [
    "import tkinter as tk\n",
    "\n",
    "root = tk.Tk()\n",
    "\n",
    "root.title(\"My First GUI\")\n",
    "root.geometry(\"500x500\")\n",
    "\n",
    "\n",
    "\n",
    "root.mainloop()"
   ]
  },
  {
   "cell_type": "code",
   "execution_count": 2,
   "metadata": {},
   "outputs": [],
   "source": [
    "import tkinter as tk\n",
    "\n",
    "# 创建主窗口\n",
    "root = tk.Tk()\n",
    "root.geometry('200x200')\n",
    "\n",
    "# 创建Frame容器\n",
    "frame = tk.Frame(root)\n",
    "\n",
    "# 将Frame容器放置在主窗口中\n",
    "frame.pack()\n",
    "\n",
    "# 创建多个按钮\n",
    "button1 = tk.Button(frame, text='按钮1')\n",
    "button2 = tk.Button(frame, text='按钮2')\n",
    "button3 = tk.Button(frame, text='按钮3')\n",
    "button4 = tk.Button(frame, text='按钮4')\n",
    "\n",
    "# 将按钮放置在Frame容器中，水平排列\n",
    "button1.pack(side='left')\n",
    "button2.pack(side='left')\n",
    "button3.pack(side='left')\n",
    "button4.pack(side='left')\n",
    "\n",
    "# 进入消息循环\n",
    "root.mainloop()"
   ]
  },
  {
   "cell_type": "code",
   "execution_count": 17,
   "metadata": {},
   "outputs": [],
   "source": [
    "import tkinter as tk\n",
    "import random\n",
    "\n",
    "FONT = ('微软雅黑', 18)\n",
    "\n",
    "# 创建主窗口\n",
    "root = tk.Tk()\n",
    "root.geometry('200x200')\n",
    "\n",
    "# 创建Frame容器\n",
    "frame = tk.Frame(root)\n",
    "\n",
    "# 将Frame容器放置在主窗口中\n",
    "frame.pack()\n",
    "\n",
    "label = tk.Label(frame, text='标签', font=FONT)\n",
    "\n",
    "# 出一个10以内的加减法题目，不允许答案出现负数\n",
    "a = random.randint(0, 10)\n",
    "b = random.randint(0, 10)\n",
    "c = random.randint(0, 1)\n",
    "if c == 0:\n",
    "    s = str(a) + '+' + str(b) + '='\n",
    "else:\n",
    "    # 如果a<b，交换a和b的值\n",
    "    if a < b:\n",
    "        a, b = b, a\n",
    "    s = str(a) + '-' + str(b) + '='\n",
    "label.config(text=s)\n",
    "# 将答案放入另外一个标签中\n",
    "label2 = tk.Label(frame, text='答案', font=FONT)\n",
    "if c == 0:\n",
    "    s = str(a + b)\n",
    "else:\n",
    "    s = str(a - b)\n",
    "label2.config(text=s)\n",
    "\n",
    "\n",
    "# 将标签放置在Frame容器中\n",
    "label.pack(side='left',fill='x',expand=True)\n",
    "\n",
    "# 换一行显示答案标签\n",
    "label2.pack(side='left',fill='x',expand=True)\n",
    "\n",
    "# 进入消息循环\n",
    "root.mainloop()"
   ]
  }
 ],
 "metadata": {
  "kernelspec": {
   "display_name": "base",
   "language": "python",
   "name": "python3"
  },
  "language_info": {
   "codemirror_mode": {
    "name": "ipython",
    "version": 3
   },
   "file_extension": ".py",
   "mimetype": "text/x-python",
   "name": "python",
   "nbconvert_exporter": "python",
   "pygments_lexer": "ipython3",
   "version": "3.11.2"
  },
  "orig_nbformat": 4
 },
 "nbformat": 4,
 "nbformat_minor": 2
}

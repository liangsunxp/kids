{
 "cells": [
  {
   "cell_type": "markdown",
   "metadata": {},
   "source": [
    "## TK进行简单的测试"
   ]
  },
  {
   "cell_type": "code",
   "execution_count": null,
   "metadata": {},
   "outputs": [],
   "source": [
    "import random\n",
    "import nicegui\n",
    "\n",
    "FONT = ('微软雅黑', 14)\n",
    "\n",
    "# 创建标签和按钮\n",
    "label = nicegui.Label(text='标签', font=FONT)\n",
    "button = nicegui.Button(text='生成题目')\n",
    "\n",
    "# 定义生成题目的函数\n",
    "def generate_question():\n",
    "    a = random.randint(0, 10)\n",
    "    b = random.randint(0, 10)\n",
    "    c = random.randint(0, 1)\n",
    "    if c == 0:\n",
    "        s = str(a) + '+' + str(b) + '='\n",
    "    else:\n",
    "        # 如果a<b，交换a和b的值\n",
    "        if a < b:\n",
    "            a, b = b, a\n",
    "        s = str(a) + '-' + str(b) + '='\n",
    "    label.set_text(s)\n",
    "    if c == 0:\n",
    "        s = str(a + b)\n",
    "    else:\n",
    "        s = str(a - b)\n",
    "    answer_label.set_text(s)\n",
    "\n",
    "# 绑定按钮的单击事件\n",
    "button.onclick(generate_question)\n",
    "\n",
    "# 创建答案标签\n",
    "answer_label = nicegui.Label(text='答案', font=FONT)\n",
    "\n",
    "# 创建布局\n",
    "layout = nicegui.VBox(children=[label, button, answer_label])\n",
    "\n",
    "# 显示布局\n",
    "nicegui.show(layout)"
   ]
  },
  {
   "cell_type": "code",
   "execution_count": 7,
   "metadata": {},
   "outputs": [],
   "source": [
    "import tkinter as tk\n",
    "\n",
    "root = tk.Tk()\n",
    "\n",
    "root.title(\"My First GUI\")\n",
    "root.geometry(\"500x500\")\n",
    "\n",
    "\n",
    "\n",
    "root.mainloop()"
   ]
  },
  {
   "cell_type": "code",
   "execution_count": 2,
   "metadata": {},
   "outputs": [],
   "source": [
    "import tkinter as tk\n",
    "\n",
    "# 创建主窗口\n",
    "root = tk.Tk()\n",
    "root.geometry('200x200')\n",
    "\n",
    "# 创建Frame容器\n",
    "frame = tk.Frame(root)\n",
    "\n",
    "# 将Frame容器放置在主窗口中\n",
    "frame.pack()\n",
    "\n",
    "# 创建多个按钮\n",
    "button1 = tk.Button(frame, text='按钮1')\n",
    "button2 = tk.Button(frame, text='按钮2')\n",
    "button3 = tk.Button(frame, text='按钮3')\n",
    "button4 = tk.Button(frame, text='按钮4')\n",
    "\n",
    "# 将按钮放置在Frame容器中，水平排列\n",
    "button1.pack(side='left')\n",
    "button2.pack(side='left')\n",
    "button3.pack(side='left')\n",
    "button4.pack(side='left')\n",
    "\n",
    "# 进入消息循环\n",
    "root.mainloop()"
   ]
  },
  {
   "cell_type": "code",
   "execution_count": null,
   "metadata": {},
   "outputs": [],
   "source": [
    "import random\n",
    "from nicegui import ui\n",
    "\n",
    "# 创建标签和按钮\n",
    "label = ui.label(text='标签')\n",
    "button = ui.button(text='生成题目',on_click=generate_question)\n",
    "\n",
    "# 定义生成题目的函数\n",
    "def generate_question():\n",
    "    a = random.randint(0, 10)\n",
    "    b = random.randint(0, 10)\n",
    "    c = random.randint(0, 1)\n",
    "    if c == 0:\n",
    "        s = str(a) + '+' + str(b) + '='\n",
    "    else:\n",
    "        # 如果a<b，交换a和b的值\n",
    "        if a < b:\n",
    "            a, b = b, a\n",
    "        s = str(a) + '-' + str(b) + '='\n",
    "    label.set_text(s)\n",
    "    if c == 0:\n",
    "        s = str(a + b)\n",
    "    else:\n",
    "        s = str(a - b)\n",
    "    answer_label.set_text(s)\n",
    "\n",
    "# 创建答案标签\n",
    "answer_label = ui.label(text='答案')\n",
    "\n",
    "ui.run()"
   ]
  },
  {
   "cell_type": "code",
   "execution_count": 13,
   "metadata": {},
   "outputs": [
    {
     "name": "stderr",
     "output_type": "stream",
     "text": [
      "auto-reloading is only supported when running from a file\n",
      "Native mode is not supported in this configuration.\n",
      "Please run \"pip install pywebview\" to use it.\n"
     ]
    },
    {
     "ename": "SystemExit",
     "evalue": "1",
     "output_type": "error",
     "traceback": [
      "An exception has occurred, use %tb to see the full traceback.\n",
      "\u001b[1;31mSystemExit\u001b[0m\u001b[1;31m:\u001b[0m 1\n"
     ]
    }
   ],
   "source": [
    "from nicegui import app, ui\n",
    "\n",
    "app.native.window_args['resizable'] = False\n",
    "app.native.start_args['debug'] = True\n",
    "\n",
    "ui.label('app running in native mode')\n",
    "ui.button('enlarge', on_click=lambda: app.native.main_window.resize(1000, 700))\n",
    "\n",
    "ui.run(native=True, window_size=(400, 300), fullscreen=False)"
   ]
  }
 ],
 "metadata": {
  "kernelspec": {
   "display_name": "base",
   "language": "python",
   "name": "python3"
  },
  "language_info": {
   "codemirror_mode": {
    "name": "ipython",
    "version": 3
   },
   "file_extension": ".py",
   "mimetype": "text/x-python",
   "name": "python",
   "nbconvert_exporter": "python",
   "pygments_lexer": "ipython3",
   "version": "3.10.9"
  },
  "orig_nbformat": 4
 },
 "nbformat": 4,
 "nbformat_minor": 2
}

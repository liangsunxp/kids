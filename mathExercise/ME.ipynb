{
 "cells": [
  {
   "cell_type": "markdown",
   "metadata": {},
   "source": [
    "## TK进行简单的测试"
   ]
  },
  {
   "cell_type": "code",
   "execution_count": 7,
   "metadata": {},
   "outputs": [],
   "source": [
    "import tkinter as tk\n",
    "\n",
    "root = tk.Tk()\n",
    "\n",
    "root.title(\"My First GUI\")\n",
    "root.geometry(\"500x500\")\n",
    "\n",
    "# 分为两栏\n",
    "frame_left = tk.Frame(root)\n",
    "frame_right = tk.Frame(root)\n",
    "\n",
    "# 左栏里面写五行文字\n",
    "label1 = tk.Label(frame_left, text=\"Hello World!\")\n",
    "label2 = tk.Label(frame_left, text=\"Hello World!\")\n",
    "label3 = tk.Label(frame_left, text=\"Hello World!\")\n",
    "label4 = tk.Label(frame_left, text=\"Hello World!\")\n",
    "label5 = tk.Label(frame_left, text=\"Hello World!\")\n",
    "\n",
    "# 右栏里面写五行文字\n",
    "label6 = tk.Label(frame_right, text=\"Hello World!\")\n",
    "label7 = tk.Label(frame_right, text=\"Hello World!\")\n",
    "label8 = tk.Label(frame_right, text=\"Hello World!\")\n",
    "label9 = tk.Label(frame_right, text=\"Hello World!\")\n",
    "label10 = tk.Label(frame_right, text=\"Hello World!\")\n",
    "\n",
    "label1.pack()\n",
    "label2.pack()\n",
    "frame_left.pack(side=\"left\")\n",
    "\n",
    "root.mainloop()"
   ]
  }
 ],
 "metadata": {
  "kernelspec": {
   "display_name": "base",
   "language": "python",
   "name": "python3"
  },
  "language_info": {
   "codemirror_mode": {
    "name": "ipython",
    "version": 3
   },
   "file_extension": ".py",
   "mimetype": "text/x-python",
   "name": "python",
   "nbconvert_exporter": "python",
   "pygments_lexer": "ipython3",
   "version": "3.10.9"
  },
  "orig_nbformat": 4
 },
 "nbformat": 4,
 "nbformat_minor": 2
}
